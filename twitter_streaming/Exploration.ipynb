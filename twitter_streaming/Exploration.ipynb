{
 "cells": [
  {
   "cell_type": "code",
   "execution_count": 1,
   "metadata": {},
   "outputs": [
    {
     "name": "stdout",
     "output_type": "stream",
     "text": [
      "Requirement already satisfied: tweepy in d:\\program files\\python\\python3.6.3\\lib\\site-packages\n",
      "Requirement already satisfied: requests-oauthlib>=0.4.1 in d:\\program files\\python\\python3.6.3\\lib\\site-packages (from tweepy)\n",
      "Requirement already satisfied: six>=1.7.3 in d:\\program files\\python\\python3.6.3\\lib\\site-packages (from tweepy)\n",
      "Requirement already satisfied: requests>=2.4.3 in d:\\program files\\python\\python3.6.3\\lib\\site-packages (from tweepy)\n",
      "Requirement already satisfied: oauthlib>=0.6.2 in d:\\program files\\python\\python3.6.3\\lib\\site-packages (from requests-oauthlib>=0.4.1->tweepy)\n",
      "Requirement already satisfied: idna<2.7,>=2.5 in d:\\program files\\python\\python3.6.3\\lib\\site-packages (from requests>=2.4.3->tweepy)\n",
      "Requirement already satisfied: certifi>=2017.4.17 in d:\\program files\\python\\python3.6.3\\lib\\site-packages (from requests>=2.4.3->tweepy)\n",
      "Requirement already satisfied: urllib3<1.23,>=1.21.1 in d:\\program files\\python\\python3.6.3\\lib\\site-packages (from requests>=2.4.3->tweepy)\n",
      "Requirement already satisfied: chardet<3.1.0,>=3.0.2 in d:\\program files\\python\\python3.6.3\\lib\\site-packages (from requests>=2.4.3->tweepy)\n"
     ]
    }
   ],
   "source": [
    "!pip install tweepy"
   ]
  },
  {
   "cell_type": "code",
   "execution_count": 2,
   "metadata": {},
   "outputs": [],
   "source": [
    "from tweepy.streaming import StreamListener\n",
    "from tweepy import OAuthHandler\n",
    "from tweepy import Stream\n",
    "import json"
   ]
  },
  {
   "cell_type": "code",
   "execution_count": 3,
   "metadata": {},
   "outputs": [],
   "source": [
    "access_token = \"104576946-nLd72kVwKr1XHgFtdjjXnpYMyCwmc7G2opSHw2P6\"\n",
    "access_token_secret = \"FTDKkJhYHQnl37NIG0NlUjsZWJ63HoPaCKCm2cl1jLnkJ\"\n",
    "consumer_key = \"FZ4H22hmAryEIAyddaZmOMDHG\"\n",
    "consumer_secret = \"MI8sd5y2kw7QdERBzG8kOcw0i702etVN3kDUj4ciIXH5q6Esqh\""
   ]
  },
  {
   "cell_type": "code",
   "execution_count": null,
   "metadata": {},
   "outputs": [],
   "source": []
  }
 ],
 "metadata": {
  "kernelspec": {
   "display_name": "Python 3",
   "language": "python",
   "name": "python3"
  },
  "language_info": {
   "codemirror_mode": {
    "name": "ipython",
    "version": 3
   },
   "file_extension": ".py",
   "mimetype": "text/x-python",
   "name": "python",
   "nbconvert_exporter": "python",
   "pygments_lexer": "ipython3",
   "version": "3.6.3"
  }
 },
 "nbformat": 4,
 "nbformat_minor": 2
}
